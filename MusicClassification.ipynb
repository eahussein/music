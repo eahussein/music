{
 "cells": [
  {
   "cell_type": "markdown",
   "metadata": {},
   "source": [
    "---\n",
    "\n",
    "[181031 - AMS] This notebook classifies audio tracks by artist. It requires feature dictionaries as inputs, these can be created using the ExtractFeatures.ipynb notebook\n",
    "\n",
    "---"
   ]
  },
  {
   "cell_type": "code",
   "execution_count": 1,
   "metadata": {},
   "outputs": [],
   "source": [
    "# general libraries:\n",
    "import pickle\n",
    "import glob\n",
    "import numpy as np\n",
    "import pylab as plt\n",
    "import itertools\n",
    "import multiprocessing"
   ]
  },
  {
   "cell_type": "code",
   "execution_count": 2,
   "metadata": {},
   "outputs": [],
   "source": [
    "# scikit-learn libraries:\n",
    "import sklearn\n",
    "from sklearn import svm\n",
    "from sklearn.svm import SVC\n",
    "from sklearn.cluster import KMeans\n",
    "from sklearn.datasets import make_classification\n",
    "from sklearn.ensemble import RandomForestClassifier\n",
    "from sklearn.pipeline import Pipeline\n",
    "from sklearn.feature_selection import SelectFromModel\n",
    "from sklearn.svm import LinearSVC\n",
    "from sklearn.model_selection import train_test_split\n",
    "from sklearn.metrics import accuracy_score\n",
    "from sklearn.metrics import roc_auc_score\n",
    "from sklearn.metrics import classification_report\n",
    "from sklearn.model_selection import cross_validate\n",
    "from sklearn import preprocessing\n",
    "from sklearn.preprocessing import StandardScaler\n",
    "from sklearn.metrics import confusion_matrix\n",
    "from sklearn.neural_network import MLPClassifier"
   ]
  },
  {
   "cell_type": "markdown",
   "metadata": {},
   "source": [
    "---\n",
    "\n",
    "Before we do anything we need to define some functions to use later:\n"
   ]
  },
  {
   "cell_type": "code",
   "execution_count": 3,
   "metadata": {},
   "outputs": [],
   "source": [
    "def load_obj(name):\n",
    "    with open(name + '.pkl', 'rb') as f:\n",
    "        return pickle.load(f)"
   ]
  },
  {
   "cell_type": "code",
   "execution_count": 4,
   "metadata": {},
   "outputs": [],
   "source": [
    "def prepare_data(all_data_in):\n",
    "    \n",
    "    all_features=[]\n",
    "    all_artists=[]\n",
    "    \n",
    "    # Create lists of song names and features for each artist:\n",
    "    for artist in all_data_in: \n",
    "        \n",
    "        # load in the feature dictionary for the artist:\n",
    "        data=load_obj(artist.replace('.pkl',''))\n",
    "        print('loading {0}'.format(artist))\n",
    "        \n",
    "        songname=[] # will be a list of song names\n",
    "        songfeat=[] # will be a list of dictionaries containing the feature data\n",
    "        artists=[]  # will be a list of artists\n",
    "        \n",
    "        # extract out the features, song name and artist into separate lists:\n",
    "        for song in data: \n",
    "            songfeat.append(data[song]) \n",
    "            songname.append(song)\n",
    "            artists.append(artist.replace('_data.pkl','').replace('all_','').replace(path,'').replace('_data_testsplit.pkl','').replace('_data_trainsplit.pkl',''))\n",
    "\n",
    "        # =========\n",
    "        # if we wanted to modify the features, this would be a good place.\n",
    "        # for example if we wanted to remove some features, e.g.\n",
    "        #\n",
    "        #print (len(songfeat[0]))\n",
    "        #for i in range(len(songfeat)):\n",
    "        #    for k in ['onset_a','onset_std','bpm','centroid_a','centroid_std','polyfeat_a','polyfeat_std','zcr_a','zcr_std']:\n",
    "        #        songfeat[i].pop(k,None)\n",
    "        #\n",
    "        #print (len(songfeat[0]))\n",
    "        # =========\n",
    "        \n",
    "        # make a list of the feature names:\n",
    "        feature_names=list(songfeat[0].keys()) \n",
    "        \n",
    "        # make a list all the feature values for this artist:\n",
    "        features=[] \n",
    "        for i in range(len(songfeat)):\n",
    "            features.append(list(songfeat[i].values())) \n",
    "            \n",
    "        # append the feature values for this artist into a master list:\n",
    "        all_features+=features\n",
    "        \n",
    "        # append the artist name for this artist into a master list:\n",
    "        all_artists+=artists\n",
    "        \n",
    "    return all_features, all_artists, feature_names"
   ]
  },
  {
   "cell_type": "markdown",
   "metadata": {},
   "source": [
    "---\n",
    "\n",
    "Now we can start the main program...\n",
    "\n",
    "First we define the path to all the saved dictionaries of features:"
   ]
  },
  {
   "cell_type": "code",
   "execution_count": 5,
   "metadata": {},
   "outputs": [],
   "source": [
    "path='./data_5band/'"
   ]
  },
  {
   "cell_type": "markdown",
   "metadata": {},
   "source": [
    "Then we get a list of all the dictionaries in that directory:"
   ]
  },
  {
   "cell_type": "code",
   "execution_count": 6,
   "metadata": {},
   "outputs": [],
   "source": [
    "all_data=glob.glob(path+'/*_data.pkl')"
   ]
  },
  {
   "cell_type": "markdown",
   "metadata": {},
   "source": [
    "We can load in each dictionary file using the **prepare_data()** function that we defined above:"
   ]
  },
  {
   "cell_type": "code",
   "execution_count": 7,
   "metadata": {},
   "outputs": [
    {
     "name": "stdout",
     "output_type": "stream",
     "text": [
      "loading ./data_5band\\all_AvrilLavigne_data.pkl\n",
      "loading ./data_5band\\all_BoardsOfCanada_data.pkl\n",
      "loading ./data_5band\\all_Classical_data.pkl\n",
      "loading ./data_5band\\all_FooFighters_data.pkl\n",
      "loading ./data_5band\\all_ImogenHeap_data.pkl\n",
      "loading ./data_5band\\all_MichaelJackson_data.pkl\n",
      "loading ./data_5band\\all_PinkFloyd_data.pkl\n",
      "loading ./data_5band\\all_REM_data.pkl\n",
      "loading ./data_5band\\all_TaylorSwift_data.pkl\n",
      "loading ./data_5band\\all_TheFlashbulb_data.pkl\n",
      "loading ./data_5band\\all_TommyEmmanuel_data.pkl\n",
      "loading ./data_5band\\all_Xmas_data.pkl\n",
      "loading ./data_5band\\all_Zero7_data.pkl\n"
     ]
    }
   ],
   "source": [
    "all_features, all_artists, feature_names = prepare_data(all_data) "
   ]
  },
  {
   "cell_type": "markdown",
   "metadata": {},
   "source": [
    "Whatever form of machine learning we end up using we're going to need to split our input data into:\n",
    "\n",
    "* training data (to train our machine learning algorithm)\n",
    "* test data (to test how well the training worked)\n",
    "\n",
    "Let's start by taking 90% of the data for training:"
   ]
  },
  {
   "cell_type": "code",
   "execution_count": 8,
   "metadata": {},
   "outputs": [],
   "source": [
    "train_percent=0.9\n",
    "test_percent=0.1"
   ]
  },
  {
   "cell_type": "markdown",
   "metadata": {},
   "source": [
    "We can then use the sklearn function **train_test_split** to randomly divide the full dataset for us:"
   ]
  },
  {
   "cell_type": "code",
   "execution_count": 9,
   "metadata": {},
   "outputs": [],
   "source": [
    "features_train, features_test, artists_train, artists_test = train_test_split(all_features, all_artists, train_size=train_percent, test_size=test_percent, random_state=0, stratify=all_artists)"
   ]
  },
  {
   "cell_type": "markdown",
   "metadata": {},
   "source": [
    "One quick check to make sure nothing crazy happened to mess up our data structures:"
   ]
  },
  {
   "cell_type": "code",
   "execution_count": 10,
   "metadata": {},
   "outputs": [
    {
     "name": "stdout",
     "output_type": "stream",
     "text": [
      "looking good!\n"
     ]
    }
   ],
   "source": [
    "try:\n",
    "    if len(artists_test)==len(features_test) and len(artists_train)==len(features_train):\n",
    "        print(\"looking good!\")\n",
    "except:\n",
    "    print('artists and features are not same length: {0} != {1}',format(artists_test,features_test,artists_train,features_train))"
   ]
  },
  {
   "cell_type": "code",
   "execution_count": 11,
   "metadata": {},
   "outputs": [],
   "source": [
    "feature_names_flatten=np.array(feature_names).flatten()\n",
    "feature_names=np.transpose(feature_names)"
   ]
  },
  {
   "cell_type": "markdown",
   "metadata": {},
   "source": [
    "Some classifiers require the target classes to be numbered labels, not strings like our artist names currently are. So here we'll do a little bit of pre-processing to format the data. We do this separately for the training and test data.\n",
    "\n",
    "First the test data:"
   ]
  },
  {
   "cell_type": "code",
   "execution_count": 12,
   "metadata": {},
   "outputs": [],
   "source": [
    "# convert lists to numpy arrays for test data:\n",
    "X_test = np.array(features_test)\n",
    "Y_test = np.array(artists_test)\n",
    "\n",
    "# call the label encoder from scikit learn:\n",
    "le = preprocessing.LabelEncoder()\n",
    "\n",
    "# apply it to the list of artist names:\n",
    "le.fit(Y_test)\n",
    "Y_test_n=le.transform(Y_test)"
   ]
  },
  {
   "cell_type": "markdown",
   "metadata": {},
   "source": [
    "Then repeat for the training data:"
   ]
  },
  {
   "cell_type": "code",
   "execution_count": 13,
   "metadata": {},
   "outputs": [],
   "source": [
    "X_train = np.array(features_train)\n",
    "Y_train = np.array(artists_train)\n",
    "le = preprocessing.LabelEncoder()\n",
    "le.fit(Y_train)\n",
    "Y_train_n=le.transform(Y_train)"
   ]
  },
  {
   "cell_type": "markdown",
   "metadata": {},
   "source": [
    "Finally, let's take a quick look at what our target classes are: "
   ]
  },
  {
   "cell_type": "code",
   "execution_count": 14,
   "metadata": {},
   "outputs": [
    {
     "name": "stdout",
     "output_type": "stream",
     "text": [
      "['./data_5band\\\\AvrilLavigne' './data_5band\\\\BoardsOfCanada'\n",
      " './data_5band\\\\Classical' './data_5band\\\\FooFighters'\n",
      " './data_5band\\\\ImogenHeap' './data_5band\\\\MichaelJackson'\n",
      " './data_5band\\\\PinkFloyd' './data_5band\\\\REM' './data_5band\\\\TaylorSwift'\n",
      " './data_5band\\\\TheFlashbulb' './data_5band\\\\TommyEmmanuel'\n",
      " './data_5band\\\\Xmas' './data_5band\\\\Zero7']\n"
     ]
    }
   ],
   "source": [
    "names=np.unique(Y_test)\n",
    "print(names)"
   ]
  },
  {
   "cell_type": "markdown",
   "metadata": {},
   "source": [
    "---\n",
    "\n",
    "The first type of machine learning we'll try out is a **neural network classifier**. The neural network requies that we normalise the feature values and subtract the mean. Just to make sure we don't break anything we'll make a copy of our training and test datasets just for the neural network (nn)."
   ]
  },
  {
   "cell_type": "code",
   "execution_count": 15,
   "metadata": {},
   "outputs": [],
   "source": [
    "nn_features_train=X_train\n",
    "nn_features_test=X_test"
   ]
  },
  {
   "cell_type": "markdown",
   "metadata": {},
   "source": [
    "Now let's perform the normalisation using the sklearn **StandardScaler** class:"
   ]
  },
  {
   "cell_type": "code",
   "execution_count": 16,
   "metadata": {},
   "outputs": [],
   "source": [
    "scaler = StandardScaler()\n",
    "scaler.fit(features_train)\n",
    "nn_features_train = scaler.transform(nn_features_train)\n",
    "nn_features_test = scaler.transform(nn_features_test)"
   ]
  },
  {
   "cell_type": "markdown",
   "metadata": {},
   "source": [
    "Now we can train the neural network. **lsize** sets the number of nodes - if you don't know what value to use you might want to make a loop over different values and look at how the accuracy changes."
   ]
  },
  {
   "cell_type": "code",
   "execution_count": 17,
   "metadata": {},
   "outputs": [],
   "source": [
    "lsize = 5000\n",
    "nn=MLPClassifier(hidden_layer_sizes=(lsize, ),solver='adam',max_iter=2000)\n",
    "\n",
    "# train the network:\n",
    "nn.fit(nn_features_train, artists_train)\n",
    "\n",
    "# test the network:\n",
    "nn_pred=nn.predict(nn_features_test)"
   ]
  },
  {
   "cell_type": "markdown",
   "metadata": {},
   "source": [
    "...and examine the results:"
   ]
  },
  {
   "cell_type": "code",
   "execution_count": 18,
   "metadata": {},
   "outputs": [
    {
     "name": "stdout",
     "output_type": "stream",
     "text": [
      "------------------------------------------------------------\n",
      "MLP nn classifier with 5000 hidden layers\n",
      "                             precision    recall  f1-score   support\n",
      "\n",
      "  ./data_5band\\AvrilLavigne       0.43      0.33      0.38         9\n",
      "./data_5band\\BoardsOfCanada       0.52      0.55      0.53        22\n",
      "     ./data_5band\\Classical       0.90      0.91      0.91        47\n",
      "   ./data_5band\\FooFighters       0.50      0.70      0.58        10\n",
      "    ./data_5band\\ImogenHeap       0.83      0.83      0.83         6\n",
      "./data_5band\\MichaelJackson       0.71      0.83      0.77         6\n",
      "     ./data_5band\\PinkFloyd       1.00      0.64      0.78        11\n",
      "           ./data_5band\\REM       0.62      0.45      0.53        11\n",
      "   ./data_5band\\TaylorSwift       0.54      0.70      0.61        10\n",
      "  ./data_5band\\TheFlashbulb       0.84      0.91      0.87        56\n",
      " ./data_5band\\TommyEmmanuel       1.00      0.73      0.84        11\n",
      "          ./data_5band\\Xmas       0.61      0.59      0.60        32\n",
      "         ./data_5band\\Zero7       1.00      0.33      0.50         3\n",
      "\n",
      "                   accuracy                           0.74       234\n",
      "                  macro avg       0.73      0.66      0.67       234\n",
      "               weighted avg       0.75      0.74      0.74       234\n",
      "\n",
      "------------------------------------------------------------\n"
     ]
    }
   ],
   "source": [
    "print('--'*30)\n",
    "print('MLP nn classifier with {0} hidden layers'.format(lsize))\n",
    "print(classification_report(artists_test, nn_pred,target_names=names))\n",
    "print('--'*30)"
   ]
  },
  {
   "cell_type": "markdown",
   "metadata": {},
   "source": [
    "---\n",
    "\n",
    "The second type of machine learning we'll try is a **random forest classifier**.\n",
    "\n",
    "To start with we need to build a forest:"
   ]
  },
  {
   "cell_type": "code",
   "execution_count": 19,
   "metadata": {},
   "outputs": [],
   "source": [
    "n_estimators=1000 # number of trees\n",
    "forest = RandomForestClassifier(n_estimators=n_estimators, random_state=2, class_weight='balanced')"
   ]
  },
  {
   "cell_type": "markdown",
   "metadata": {},
   "source": [
    "Then we train it using our training data:"
   ]
  },
  {
   "cell_type": "code",
   "execution_count": 20,
   "metadata": {},
   "outputs": [
    {
     "data": {
      "text/plain": [
       "RandomForestClassifier(class_weight='balanced', n_estimators=1000,\n",
       "                       random_state=2)"
      ]
     },
     "execution_count": 20,
     "metadata": {},
     "output_type": "execute_result"
    }
   ],
   "source": [
    "forest.fit(features_train, artists_train)"
   ]
  },
  {
   "cell_type": "markdown",
   "metadata": {},
   "source": [
    "and we test how well the training worked by using our test data. We can evaluate the testing by calculating the accuracy of the prediction given that we know the true target classes for each test data point:"
   ]
  },
  {
   "cell_type": "code",
   "execution_count": 21,
   "metadata": {},
   "outputs": [
    {
     "name": "stdout",
     "output_type": "stream",
     "text": [
      "initial accuracy: 0.76\n"
     ]
    }
   ],
   "source": [
    "artists_pred = forest.predict(features_test)\n",
    "accuracy_before=(accuracy_score(artists_test, artists_pred))\n",
    "print('initial accuracy: {0:.2f}'.format(accuracy_before))"
   ]
  },
  {
   "cell_type": "markdown",
   "metadata": {},
   "source": [
    "78% accuracy isn't terrible, but it's also not great in machine learning terms. We can try to improve it by pruning out some of the nuisance features. This is a two step process, so we'll string the steps into a short pipeline."
   ]
  },
  {
   "cell_type": "code",
   "execution_count": 22,
   "metadata": {},
   "outputs": [],
   "source": [
    "#lsvc = LinearSVC(C=0.01, penalty=\"l1\", dual=False).fit(features_train, artists_train)\n",
    "rfc = RandomForestClassifier(n_estimators=n_estimators, random_state=2)\n",
    "\n",
    "pipeline = Pipeline([\n",
    "    ('feature_selection', SelectFromModel(rfc)),\n",
    "    ('classification', RandomForestClassifier(n_estimators=n_estimators, random_state=2, class_weight='balanced'))\n",
    "])"
   ]
  },
  {
   "cell_type": "markdown",
   "metadata": {},
   "source": [
    "Now let's repeat the training step and check our accuracy again:"
   ]
  },
  {
   "cell_type": "code",
   "execution_count": 23,
   "metadata": {},
   "outputs": [
    {
     "name": "stdout",
     "output_type": "stream",
     "text": [
      "new accuracy: 0.78\n"
     ]
    }
   ],
   "source": [
    "pipeline.fit(features_train, artists_train)\n",
    "    \n",
    "artists_important_pred = pipeline.predict(features_test)\n",
    "accuracy_after=(accuracy_score(artists_test, artists_important_pred))\n",
    "print('new accuracy: {0:.2f}'.format(accuracy_after))"
   ]
  },
  {
   "cell_type": "markdown",
   "metadata": {},
   "source": [
    "We can compare the outputs and check the other metrics:"
   ]
  },
  {
   "cell_type": "code",
   "execution_count": 24,
   "metadata": {},
   "outputs": [
    {
     "name": "stdout",
     "output_type": "stream",
     "text": [
      "accuracy before pruning features: 0.76\n",
      "accuracy after pruning features: 0.78\n",
      "We should check other metrics for a full picture of this model:\n",
      "------------------------------------------------------------\n",
      "Random Forest report after feature pruning:\n",
      "                             precision    recall  f1-score   support\n",
      "\n",
      "  ./data_5band\\AvrilLavigne       0.80      0.89      0.84         9\n",
      "./data_5band\\BoardsOfCanada       0.71      0.55      0.62        22\n",
      "     ./data_5band\\Classical       0.96      0.96      0.96        47\n",
      "   ./data_5band\\FooFighters       0.67      0.60      0.63        10\n",
      "    ./data_5band\\ImogenHeap       1.00      0.67      0.80         6\n",
      "./data_5band\\MichaelJackson       1.00      0.83      0.91         6\n",
      "     ./data_5band\\PinkFloyd       0.78      0.64      0.70        11\n",
      "           ./data_5band\\REM       0.80      0.36      0.50        11\n",
      "   ./data_5band\\TaylorSwift       0.89      0.80      0.84        10\n",
      "  ./data_5band\\TheFlashbulb       0.78      0.91      0.84        56\n",
      " ./data_5band\\TommyEmmanuel       1.00      0.64      0.78        11\n",
      "          ./data_5band\\Xmas       0.55      0.81      0.66        32\n",
      "         ./data_5band\\Zero7       0.00      0.00      0.00         3\n",
      "\n",
      "                   accuracy                           0.78       234\n",
      "                  macro avg       0.76      0.67      0.70       234\n",
      "               weighted avg       0.79      0.78      0.77       234\n",
      "\n",
      "------------------------------------------------------------\n"
     ]
    },
    {
     "name": "stderr",
     "output_type": "stream",
     "text": [
      "C:\\Users\\Admin\\anaconda3\\lib\\site-packages\\sklearn\\metrics\\_classification.py:1221: UndefinedMetricWarning: Precision and F-score are ill-defined and being set to 0.0 in labels with no predicted samples. Use `zero_division` parameter to control this behavior.\n",
      "  _warn_prf(average, modifier, msg_start, len(result))\n"
     ]
    }
   ],
   "source": [
    "print('accuracy before pruning features: {0:.2f}'.format(accuracy_before))\n",
    "print('accuracy after pruning features: {0:.2f}'.format(accuracy_after))\n",
    "print('We should check other metrics for a full picture of this model:')\n",
    "print('--'*30)\n",
    "print('Random Forest report after feature pruning:')\n",
    "print(classification_report(artists_test, artists_important_pred,target_names=names))\n",
    "print('--'*30)"
   ]
  },
  {
   "cell_type": "markdown",
   "metadata": {},
   "source": [
    "We can use importance ranking to prune the least useful features. "
   ]
  },
  {
   "cell_type": "code",
   "execution_count": 25,
   "metadata": {},
   "outputs": [],
   "source": [
    "clf = pipeline.steps[1][1] \n",
    "\n",
    "importances = clf.feature_importances_\n",
    "std = np.std([tree.feature_importances_ for tree in clf.estimators_],axis=0)\n",
    "indices = np.argsort(importances)[::-1]\n",
    "    \n",
    "feature_names_importanceorder_pruned=[]\n",
    "for f in range(len(indices)):\n",
    "    feature_names_importanceorder_pruned.append(str(feature_names[indices[f]]))"
   ]
  },
  {
   "cell_type": "markdown",
   "metadata": {},
   "source": [
    "Let's plot them up:"
   ]
  },
  {
   "cell_type": "code",
   "execution_count": 33,
   "metadata": {},
   "outputs": [
    {
     "data": {
      "image/png": "[encoded data removed]",
      "text/plain": [
       "<Figure size 1080x504 with 1 Axes>"
      ]
     },
     "metadata": {
      "needs_background": "light"
     },
     "output_type": "display_data"
    }
   ],
   "source": [
    "plt.figure(figsize=(15, 7))\n",
    "plt.title('After pruning features:')\n",
    "plt.bar(range(len(indices)), importances[indices], color=\"r\", yerr=std[indices], align=\"center\")\n",
    "plt.xticks(range(len(indices)), indices)\n",
    "plt.xlim([-1, len(indices)])\n",
    "plt.xticks(range(len(indices)), feature_names_importanceorder_pruned, rotation='vertical')\n",
    "plt.tight_layout()\n",
    "plt.show()"
   ]
  },
  {
   "cell_type": "code",
   "execution_count": 27,
   "metadata": {},
   "outputs": [
    {
     "name": "stdout",
     "output_type": "stream",
     "text": [
      "Started with 55 features, now using 24\n"
     ]
    }
   ],
   "source": [
    "no_features=len(feature_names_importanceorder_pruned)\n",
    "\n",
    "print('Started with {0} features, now using {1}'.format(len(feature_names), no_features))\n",
    "#print('features used were:')\n",
    "#print( set(feature_names_flatten)-set(feature_names_importanceorder_pruned) )"
   ]
  },
  {
   "cell_type": "markdown",
   "metadata": {},
   "source": [
    "Another good way to visualise the success of the classification is to make a confusion matrix. Here is a function to print a confusion matrix:"
   ]
  },
  {
   "cell_type": "code",
   "execution_count": 28,
   "metadata": {},
   "outputs": [],
   "source": [
    "def plot_confusion_matrix(cm, classes, normalize=False, title='Confusion matrix', cmap=plt.cm.Blues):\n",
    "    \n",
    "    \"\"\"\n",
    "    This function prints and plots the confusion matrix.\n",
    "    Normalization can be applied by setting `normalize=True`.\n",
    "    \"\"\"\n",
    "    \n",
    "    if normalize:\n",
    "        cm = cm.astype('float') / cm.sum(axis=1)[:, np.newaxis]\n",
    "        print(\"Showing normalized confusion matrix\")\n",
    "    else:\n",
    "        print('Showing confusion matrix, without normalization')\n",
    "        \n",
    "    plt.imshow(cm, interpolation='nearest', cmap=cmap)\n",
    "    plt.title(title)\n",
    "    plt.colorbar()\n",
    "    tick_marks = np.arange(len(classes))\n",
    "    plt.xticks(tick_marks, classes, rotation=90)\n",
    "    plt.yticks(tick_marks, classes)\n",
    "\n",
    "    fmt = '.2f' if normalize else 'd'\n",
    "    thresh = cm.max() / 2.\n",
    "    for i, j in itertools.product(range(cm.shape[0]), range(cm.shape[1])):\n",
    "        plt.text(j, i, format(cm[i, j], fmt),\n",
    "                horizontalalignment=\"center\",\n",
    "                color=\"white\" if cm[i, j] > thresh else \"black\")\n",
    "\n",
    "    plt.tight_layout()\n",
    "    plt.ylabel('True label')\n",
    "    plt.xlabel('Predicted label')\n",
    "\n",
    "    return"
   ]
  },
  {
   "cell_type": "markdown",
   "metadata": {},
   "source": [
    "Let's call the function, comparing our test data with the machine learning prediction:"
   ]
  },
  {
   "cell_type": "code",
   "execution_count": 29,
   "metadata": {},
   "outputs": [],
   "source": [
    "cnf_matrix = confusion_matrix(artists_test, artists_important_pred)"
   ]
  },
  {
   "cell_type": "markdown",
   "metadata": {},
   "source": [
    "and plot it up:"
   ]
  },
  {
   "cell_type": "code",
   "execution_count": 32,
   "metadata": {},
   "outputs": [
    {
     "name": "stdout",
     "output_type": "stream",
     "text": [
      "Showing confusion matrix, without normalization\n"
     ]
    },
    {
     "data": {
      "image/png": "[encoded data removed]",
      "text/plain": [
       "<Figure size 1080x504 with 2 Axes>"
      ]
     },
     "metadata": {
      "needs_background": "light"
     },
     "output_type": "display_data"
    }
   ],
   "source": [
    "np.set_printoptions(precision=2)\n",
    "\n",
    "plt.figure(figsize=(15, 7))\n",
    "plot_confusion_matrix(cnf_matrix, classes=names,\n",
    "                        title='Confusion matrix, without normalization')\n",
    "  \n",
    "# ===\n",
    "# alternatively you could plot the normalized confusion matrix #\n",
    "#plt.figure()\n",
    "#plot_confusion_matrix(cnf_matrix, classes=names, normalize=True,\n",
    "#                      title='Normalized confusion matrix')\n",
    "# ===\n",
    "\n",
    "plt.show()"
   ]
  },
  {
   "cell_type": "code",
   "execution_count": null,
   "metadata": {},
   "outputs": [],
   "source": []
  }
 ],
 "metadata": {
  "kernelspec": {
   "display_name": "Python 3",
   "language": "python",
   "name": "python3"
  },
  "language_info": {
   "codemirror_mode": {
    "name": "ipython",
    "version": 3
   },
   "file_extension": ".py",
   "mimetype": "text/x-python",
   "name": "python",
   "nbconvert_exporter": "python",
   "pygments_lexer": "ipython3",
   "version": "3.8.3"
  }
 },
 "nbformat": 4,
 "nbformat_minor": 2
}
